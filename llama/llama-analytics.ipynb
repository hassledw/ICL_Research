{
 "cells": [
  {
   "cell_type": "markdown",
   "metadata": {},
   "source": [
    "# Llama Model Analytics on Yelp Dataset"
   ]
  },
  {
   "cell_type": "code",
   "execution_count": 76,
   "metadata": {},
   "outputs": [],
   "source": [
    "import pandas as pd\n",
    "import matplotlib.pyplot as plt\n",
    "import seaborn as sns\n",
    "import numpy as np\n",
    "from datasets import load_dataset\n"
   ]
  },
  {
   "cell_type": "markdown",
   "metadata": {},
   "source": [
    "## Create the Ground Truth CSV file"
   ]
  },
  {
   "cell_type": "code",
   "execution_count": 77,
   "metadata": {},
   "outputs": [],
   "source": [
    "# dataset = load_dataset(\"KaiLv/UDR_Yelp\")\n",
    "# data = dataset[\"test\"]\n",
    "\n",
    "# data = pd.DataFrame(data).drop(columns=[\"idx\"])\n",
    "# data.to_csv(\"/home/grads/hassledw/ICL_Research/UDR-yelp-llama.csv\")"
   ]
  },
  {
   "cell_type": "markdown",
   "metadata": {},
   "source": [
    "### Load Yelp Data"
   ]
  },
  {
   "cell_type": "code",
   "execution_count": 78,
   "metadata": {},
   "outputs": [],
   "source": [
    "yelp_truth_df = pd.read_csv(\"/home/grads/hassledw/ICL_Research/UDR_yelp_results/UDR-yelp-llama.csv\")\n",
    "yelp_zero_df = pd.read_csv(\"/home/grads/hassledw/ICL_Research/UDR_yelp_results/UDR-yelp-zeroshot-llama-1.csv\")\n",
    "yelp_few_df = pd.read_csv(\"/home/grads/hassledw/ICL_Research/UDR_yelp_results/UDR-yelp-fewshot-llama-1.csv\")\n",
    "yelp_zero_2_df = pd.read_csv(\"/home/grads/hassledw/ICL_Research/UDR_yelp_results/UDR-yelp-zeroshot-llama-2.csv\")\n",
    "yelp_few_2_df = pd.read_csv(\"/home/grads/hassledw/ICL_Research/UDR_yelp_results/UDR-yelp-fewshot-llama-2.csv\")\n",
    "yelp_zero_3_df = pd.read_csv(\"/home/grads/hassledw/ICL_Research/UDR_yelp_results/UDR-yelp-zeroshot-llama-3.csv\")\n",
    "yelp_few_3_df = pd.read_csv(\"/home/grads/hassledw/ICL_Research/UDR_yelp_results/UDR-yelp-fewshot-llama-3.csv\")"
   ]
  },
  {
   "cell_type": "markdown",
   "metadata": {},
   "source": [
    "### Load ComE Data"
   ]
  },
  {
   "cell_type": "code",
   "execution_count": 83,
   "metadata": {},
   "outputs": [],
   "source": [
    "come_truth_df = pd.read_csv(\"/home/grads/hassledw/ICL_Research/UDR_comE_results/UDR-comE-llama-cleaned.csv\")\n",
    "come_zero_df = pd.read_csv(\"/home/grads/hassledw/ICL_Research/UDR_comE_results/UDR-comE-zeroshot-llama-1.csv\")\n",
    "come_zero_2_df = pd.read_csv(\"/home/grads/hassledw/ICL_Research/UDR_comE_results/UDR-comE-zeroshot-llama-2.csv\")\n",
    "come_zero_3_df = pd.read_csv(\"/home/grads/hassledw/ICL_Research/UDR_comE_results/UDR-comE-zeroshot-llama-3.csv\")"
   ]
  },
  {
   "cell_type": "markdown",
   "metadata": {},
   "source": [
    "## Clean the Label Data in Zero-Shot and Run Metric"
   ]
  },
  {
   "cell_type": "code",
   "execution_count": 84,
   "metadata": {},
   "outputs": [
    {
     "ename": "AttributeError",
     "evalue": "'int' object has no attribute 'split'",
     "output_type": "error",
     "traceback": [
      "\u001b[0;31m---------------------------------------------------------------------------\u001b[0m",
      "\u001b[0;31mAttributeError\u001b[0m                            Traceback (most recent call last)",
      "\u001b[1;32m/home/grads/hassledw/ICL_Research/llama/llama-analytics.ipynb Cell 10\u001b[0m line \u001b[0;36m4\n\u001b[1;32m     <a href='vscode-notebook-cell://ssh-remote%2Brlogin.cs.vt.edu/home/grads/hassledw/ICL_Research/llama/llama-analytics.ipynb#X12sdnNjb2RlLXJlbW90ZQ%3D%3D?line=38'>39</a>\u001b[0m     \u001b[39mprint\u001b[39m(\u001b[39mf\u001b[39m\u001b[39m\"\u001b[39m\u001b[39mDropped \u001b[39m\u001b[39m{\u001b[39;00morig_entries\u001b[39m \u001b[39m\u001b[39m-\u001b[39m\u001b[39m \u001b[39mdf\u001b[39m.\u001b[39mshape[\u001b[39m0\u001b[39m]\u001b[39m}\u001b[39;00m\u001b[39m \u001b[39m\u001b[39m\\\"\u001b[39;00m\u001b[39mNone\u001b[39m\u001b[39m\\\"\u001b[39;00m\u001b[39m entries\u001b[39m\u001b[39m\"\u001b[39m)\n\u001b[1;32m     <a href='vscode-notebook-cell://ssh-remote%2Brlogin.cs.vt.edu/home/grads/hassledw/ICL_Research/llama/llama-analytics.ipynb#X12sdnNjb2RlLXJlbW90ZQ%3D%3D?line=39'>40</a>\u001b[0m     \u001b[39mreturn\u001b[39;00m df\n\u001b[0;32m---> <a href='vscode-notebook-cell://ssh-remote%2Brlogin.cs.vt.edu/home/grads/hassledw/ICL_Research/llama/llama-analytics.ipynb#X12sdnNjb2RlLXJlbW90ZQ%3D%3D?line=41'>42</a>\u001b[0m yelp_zero_df \u001b[39m=\u001b[39m clean_yelp_df(yelp_zero_df)\n\u001b[1;32m     <a href='vscode-notebook-cell://ssh-remote%2Brlogin.cs.vt.edu/home/grads/hassledw/ICL_Research/llama/llama-analytics.ipynb#X12sdnNjb2RlLXJlbW90ZQ%3D%3D?line=42'>43</a>\u001b[0m yelp_few_df \u001b[39m=\u001b[39m clean_yelp_df(yelp_few_df)\n\u001b[1;32m     <a href='vscode-notebook-cell://ssh-remote%2Brlogin.cs.vt.edu/home/grads/hassledw/ICL_Research/llama/llama-analytics.ipynb#X12sdnNjb2RlLXJlbW90ZQ%3D%3D?line=43'>44</a>\u001b[0m yelp_zero_2_df \u001b[39m=\u001b[39m clean_yelp_df(yelp_zero_2_df)\n",
      "\u001b[1;32m/home/grads/hassledw/ICL_Research/llama/llama-analytics.ipynb Cell 10\u001b[0m line \u001b[0;36m2\n\u001b[1;32m     <a href='vscode-notebook-cell://ssh-remote%2Brlogin.cs.vt.edu/home/grads/hassledw/ICL_Research/llama/llama-analytics.ipynb#X12sdnNjb2RlLXJlbW90ZQ%3D%3D?line=26'>27</a>\u001b[0m \u001b[39mdef\u001b[39;00m \u001b[39mclean_yelp_df\u001b[39m(df):\n\u001b[0;32m---> <a href='vscode-notebook-cell://ssh-remote%2Brlogin.cs.vt.edu/home/grads/hassledw/ICL_Research/llama/llama-analytics.ipynb#X12sdnNjb2RlLXJlbW90ZQ%3D%3D?line=27'>28</a>\u001b[0m     df[\u001b[39m\"\u001b[39m\u001b[39mlabel\u001b[39m\u001b[39m\"\u001b[39m] \u001b[39m=\u001b[39m df[\u001b[39m\"\u001b[39;49m\u001b[39mlabel\u001b[39;49m\u001b[39m\"\u001b[39;49m]\u001b[39m.\u001b[39;49mapply(get_response_yelp)\n\u001b[1;32m     <a href='vscode-notebook-cell://ssh-remote%2Brlogin.cs.vt.edu/home/grads/hassledw/ICL_Research/llama/llama-analytics.ipynb#X12sdnNjb2RlLXJlbW90ZQ%3D%3D?line=28'>29</a>\u001b[0m     orig_entries \u001b[39m=\u001b[39m df\u001b[39m.\u001b[39mshape[\u001b[39m0\u001b[39m]\n\u001b[1;32m     <a href='vscode-notebook-cell://ssh-remote%2Brlogin.cs.vt.edu/home/grads/hassledw/ICL_Research/llama/llama-analytics.ipynb#X12sdnNjb2RlLXJlbW90ZQ%3D%3D?line=29'>30</a>\u001b[0m     df \u001b[39m=\u001b[39m df\u001b[39m.\u001b[39mdropna()\n",
      "File \u001b[0;32m~/miniconda3/lib/python3.11/site-packages/pandas/core/series.py:4760\u001b[0m, in \u001b[0;36mSeries.apply\u001b[0;34m(self, func, convert_dtype, args, by_row, **kwargs)\u001b[0m\n\u001b[1;32m   4625\u001b[0m \u001b[39mdef\u001b[39;00m \u001b[39mapply\u001b[39m(\n\u001b[1;32m   4626\u001b[0m     \u001b[39mself\u001b[39m,\n\u001b[1;32m   4627\u001b[0m     func: AggFuncType,\n\u001b[0;32m   (...)\u001b[0m\n\u001b[1;32m   4632\u001b[0m     \u001b[39m*\u001b[39m\u001b[39m*\u001b[39mkwargs,\n\u001b[1;32m   4633\u001b[0m ) \u001b[39m-\u001b[39m\u001b[39m>\u001b[39m DataFrame \u001b[39m|\u001b[39m Series:\n\u001b[1;32m   4634\u001b[0m \u001b[39m    \u001b[39m\u001b[39m\"\"\"\u001b[39;00m\n\u001b[1;32m   4635\u001b[0m \u001b[39m    Invoke function on values of Series.\u001b[39;00m\n\u001b[1;32m   4636\u001b[0m \n\u001b[0;32m   (...)\u001b[0m\n\u001b[1;32m   4751\u001b[0m \u001b[39m    dtype: float64\u001b[39;00m\n\u001b[1;32m   4752\u001b[0m \u001b[39m    \"\"\"\u001b[39;00m\n\u001b[1;32m   4753\u001b[0m     \u001b[39mreturn\u001b[39;00m SeriesApply(\n\u001b[1;32m   4754\u001b[0m         \u001b[39mself\u001b[39;49m,\n\u001b[1;32m   4755\u001b[0m         func,\n\u001b[1;32m   4756\u001b[0m         convert_dtype\u001b[39m=\u001b[39;49mconvert_dtype,\n\u001b[1;32m   4757\u001b[0m         by_row\u001b[39m=\u001b[39;49mby_row,\n\u001b[1;32m   4758\u001b[0m         args\u001b[39m=\u001b[39;49margs,\n\u001b[1;32m   4759\u001b[0m         kwargs\u001b[39m=\u001b[39;49mkwargs,\n\u001b[0;32m-> 4760\u001b[0m     )\u001b[39m.\u001b[39;49mapply()\n",
      "File \u001b[0;32m~/miniconda3/lib/python3.11/site-packages/pandas/core/apply.py:1207\u001b[0m, in \u001b[0;36mSeriesApply.apply\u001b[0;34m(self)\u001b[0m\n\u001b[1;32m   1204\u001b[0m     \u001b[39mreturn\u001b[39;00m \u001b[39mself\u001b[39m\u001b[39m.\u001b[39mapply_compat()\n\u001b[1;32m   1206\u001b[0m \u001b[39m# self.func is Callable\u001b[39;00m\n\u001b[0;32m-> 1207\u001b[0m \u001b[39mreturn\u001b[39;00m \u001b[39mself\u001b[39;49m\u001b[39m.\u001b[39;49mapply_standard()\n",
      "File \u001b[0;32m~/miniconda3/lib/python3.11/site-packages/pandas/core/apply.py:1287\u001b[0m, in \u001b[0;36mSeriesApply.apply_standard\u001b[0;34m(self)\u001b[0m\n\u001b[1;32m   1281\u001b[0m \u001b[39m# row-wise access\u001b[39;00m\n\u001b[1;32m   1282\u001b[0m \u001b[39m# apply doesn't have a `na_action` keyword and for backward compat reasons\u001b[39;00m\n\u001b[1;32m   1283\u001b[0m \u001b[39m# we need to give `na_action=\"ignore\"` for categorical data.\u001b[39;00m\n\u001b[1;32m   1284\u001b[0m \u001b[39m# TODO: remove the `na_action=\"ignore\"` when that default has been changed in\u001b[39;00m\n\u001b[1;32m   1285\u001b[0m \u001b[39m#  Categorical (GH51645).\u001b[39;00m\n\u001b[1;32m   1286\u001b[0m action \u001b[39m=\u001b[39m \u001b[39m\"\u001b[39m\u001b[39mignore\u001b[39m\u001b[39m\"\u001b[39m \u001b[39mif\u001b[39;00m \u001b[39misinstance\u001b[39m(obj\u001b[39m.\u001b[39mdtype, CategoricalDtype) \u001b[39melse\u001b[39;00m \u001b[39mNone\u001b[39;00m\n\u001b[0;32m-> 1287\u001b[0m mapped \u001b[39m=\u001b[39m obj\u001b[39m.\u001b[39;49m_map_values(\n\u001b[1;32m   1288\u001b[0m     mapper\u001b[39m=\u001b[39;49mcurried, na_action\u001b[39m=\u001b[39;49maction, convert\u001b[39m=\u001b[39;49m\u001b[39mself\u001b[39;49m\u001b[39m.\u001b[39;49mconvert_dtype\n\u001b[1;32m   1289\u001b[0m )\n\u001b[1;32m   1291\u001b[0m \u001b[39mif\u001b[39;00m \u001b[39mlen\u001b[39m(mapped) \u001b[39mand\u001b[39;00m \u001b[39misinstance\u001b[39m(mapped[\u001b[39m0\u001b[39m], ABCSeries):\n\u001b[1;32m   1292\u001b[0m     \u001b[39m# GH#43986 Need to do list(mapped) in order to get treated as nested\u001b[39;00m\n\u001b[1;32m   1293\u001b[0m     \u001b[39m#  See also GH#25959 regarding EA support\u001b[39;00m\n\u001b[1;32m   1294\u001b[0m     \u001b[39mreturn\u001b[39;00m obj\u001b[39m.\u001b[39m_constructor_expanddim(\u001b[39mlist\u001b[39m(mapped), index\u001b[39m=\u001b[39mobj\u001b[39m.\u001b[39mindex)\n",
      "File \u001b[0;32m~/miniconda3/lib/python3.11/site-packages/pandas/core/base.py:921\u001b[0m, in \u001b[0;36mIndexOpsMixin._map_values\u001b[0;34m(self, mapper, na_action, convert)\u001b[0m\n\u001b[1;32m    918\u001b[0m \u001b[39mif\u001b[39;00m \u001b[39misinstance\u001b[39m(arr, ExtensionArray):\n\u001b[1;32m    919\u001b[0m     \u001b[39mreturn\u001b[39;00m arr\u001b[39m.\u001b[39mmap(mapper, na_action\u001b[39m=\u001b[39mna_action)\n\u001b[0;32m--> 921\u001b[0m \u001b[39mreturn\u001b[39;00m algorithms\u001b[39m.\u001b[39;49mmap_array(arr, mapper, na_action\u001b[39m=\u001b[39;49mna_action, convert\u001b[39m=\u001b[39;49mconvert)\n",
      "File \u001b[0;32m~/miniconda3/lib/python3.11/site-packages/pandas/core/algorithms.py:1814\u001b[0m, in \u001b[0;36mmap_array\u001b[0;34m(arr, mapper, na_action, convert)\u001b[0m\n\u001b[1;32m   1812\u001b[0m values \u001b[39m=\u001b[39m arr\u001b[39m.\u001b[39mastype(\u001b[39mobject\u001b[39m, copy\u001b[39m=\u001b[39m\u001b[39mFalse\u001b[39;00m)\n\u001b[1;32m   1813\u001b[0m \u001b[39mif\u001b[39;00m na_action \u001b[39mis\u001b[39;00m \u001b[39mNone\u001b[39;00m:\n\u001b[0;32m-> 1814\u001b[0m     \u001b[39mreturn\u001b[39;00m lib\u001b[39m.\u001b[39;49mmap_infer(values, mapper, convert\u001b[39m=\u001b[39;49mconvert)\n\u001b[1;32m   1815\u001b[0m \u001b[39melse\u001b[39;00m:\n\u001b[1;32m   1816\u001b[0m     \u001b[39mreturn\u001b[39;00m lib\u001b[39m.\u001b[39mmap_infer_mask(\n\u001b[1;32m   1817\u001b[0m         values, mapper, mask\u001b[39m=\u001b[39misna(values)\u001b[39m.\u001b[39mview(np\u001b[39m.\u001b[39muint8), convert\u001b[39m=\u001b[39mconvert\n\u001b[1;32m   1818\u001b[0m     )\n",
      "File \u001b[0;32mlib.pyx:2917\u001b[0m, in \u001b[0;36mpandas._libs.lib.map_infer\u001b[0;34m()\u001b[0m\n",
      "\u001b[1;32m/home/grads/hassledw/ICL_Research/llama/llama-analytics.ipynb Cell 10\u001b[0m line \u001b[0;36m7\n\u001b[1;32m      <a href='vscode-notebook-cell://ssh-remote%2Brlogin.cs.vt.edu/home/grads/hassledw/ICL_Research/llama/llama-analytics.ipynb#X12sdnNjb2RlLXJlbW90ZQ%3D%3D?line=4'>5</a>\u001b[0m valid \u001b[39m=\u001b[39m [\u001b[39m\"\u001b[39m\u001b[39mvery negative\u001b[39m\u001b[39m\"\u001b[39m, \u001b[39m\"\u001b[39m\u001b[39mvery positive\u001b[39m\u001b[39m\"\u001b[39m, \u001b[39m\"\u001b[39m\u001b[39mnegative\u001b[39m\u001b[39m\"\u001b[39m, \u001b[39m\"\u001b[39m\u001b[39mpositive\u001b[39m\u001b[39m\"\u001b[39m, \u001b[39m\"\u001b[39m\u001b[39mneutral\u001b[39m\u001b[39m\"\u001b[39m]\n\u001b[1;32m      <a href='vscode-notebook-cell://ssh-remote%2Brlogin.cs.vt.edu/home/grads/hassledw/ICL_Research/llama/llama-analytics.ipynb#X12sdnNjb2RlLXJlbW90ZQ%3D%3D?line=5'>6</a>\u001b[0m valid_dict \u001b[39m=\u001b[39m {\u001b[39m\"\u001b[39m\u001b[39mvery negative\u001b[39m\u001b[39m\"\u001b[39m: \u001b[39m0\u001b[39m, \u001b[39m\"\u001b[39m\u001b[39mnegative\u001b[39m\u001b[39m\"\u001b[39m: \u001b[39m1\u001b[39m, \u001b[39m\"\u001b[39m\u001b[39mneutral\u001b[39m\u001b[39m\"\u001b[39m: \u001b[39m2\u001b[39m, \u001b[39m\"\u001b[39m\u001b[39mpositive\u001b[39m\u001b[39m\"\u001b[39m: \u001b[39m3\u001b[39m, \u001b[39m\"\u001b[39m\u001b[39mvery positive\u001b[39m\u001b[39m\"\u001b[39m: \u001b[39m4\u001b[39m}\n\u001b[0;32m----> <a href='vscode-notebook-cell://ssh-remote%2Brlogin.cs.vt.edu/home/grads/hassledw/ICL_Research/llama/llama-analytics.ipynb#X12sdnNjb2RlLXJlbW90ZQ%3D%3D?line=6'>7</a>\u001b[0m sentences \u001b[39m=\u001b[39m text\u001b[39m.\u001b[39;49msplit(\u001b[39m\"\u001b[39m\u001b[39mResponse:\u001b[39m\u001b[39m\"\u001b[39m)\n\u001b[1;32m      <a href='vscode-notebook-cell://ssh-remote%2Brlogin.cs.vt.edu/home/grads/hassledw/ICL_Research/llama/llama-analytics.ipynb#X12sdnNjb2RlLXJlbW90ZQ%3D%3D?line=7'>8</a>\u001b[0m query \u001b[39m=\u001b[39m sentences[\u001b[39m-\u001b[39m\u001b[39m1\u001b[39m]\u001b[39m.\u001b[39mstrip(\u001b[39m\"\u001b[39m\u001b[39m##\u001b[39m\u001b[39m\"\u001b[39m)\u001b[39m.\u001b[39mstrip(\u001b[39m\"\u001b[39m\u001b[39m \u001b[39m\u001b[39m\"\u001b[39m)\u001b[39m.\u001b[39mlower()\n\u001b[1;32m     <a href='vscode-notebook-cell://ssh-remote%2Brlogin.cs.vt.edu/home/grads/hassledw/ICL_Research/llama/llama-analytics.ipynb#X12sdnNjb2RlLXJlbW90ZQ%3D%3D?line=9'>10</a>\u001b[0m \u001b[39mif\u001b[39;00m \u001b[39mlen\u001b[39m(sentences[\u001b[39m-\u001b[39m\u001b[39m1\u001b[39m]\u001b[39m.\u001b[39msplit(\u001b[39m\"\u001b[39m\u001b[39m \u001b[39m\u001b[39m\"\u001b[39m)) \u001b[39m>\u001b[39m \u001b[39m3\u001b[39m \u001b[39mor\u001b[39;00m query \u001b[39mnot\u001b[39;00m \u001b[39min\u001b[39;00m valid:\n",
      "\u001b[0;31mAttributeError\u001b[0m: 'int' object has no attribute 'split'"
     ]
    }
   ],
   "source": [
    "def get_response_yelp(text):\n",
    "    '''\n",
    "    Cleans the text of the label to just get the response\n",
    "    '''\n",
    "    valid = [\"very negative\", \"very positive\", \"negative\", \"positive\", \"neutral\"]\n",
    "    valid_dict = {\"very negative\": 0, \"negative\": 1, \"neutral\": 2, \"positive\": 3, \"very positive\": 4}\n",
    "    sentences = text.split(\"Response:\")\n",
    "    query = sentences[-1].strip(\"##\").strip(\" \").lower()\n",
    "    \n",
    "    if len(sentences[-1].split(\" \")) > 3 or query not in valid:\n",
    "        for v in valid:\n",
    "            if v in query:\n",
    "                return valid_dict[v]\n",
    "        return None\n",
    "    else:\n",
    "        return valid_dict[query]\n",
    "\n",
    "def get_response_come(text):\n",
    "    valid = [\"A\", \"B\", \"C\"]\n",
    "    sentences = text.split(\"choice:\")\n",
    "    query = sentences[-1][:20]\n",
    "    for char in query:\n",
    "        if char in valid:\n",
    "            return char\n",
    "    return None\n",
    "\n",
    "def clean_yelp_df(df):\n",
    "    df[\"label\"] = df[\"label\"].apply(get_response_yelp)\n",
    "    orig_entries = df.shape[0]\n",
    "    df = df.dropna()\n",
    "    print(f\"Dropped {orig_entries - df.shape[0]} \\\"None\\\" entries\")\n",
    "    df[\"label\"] = df[\"label\"].astype(int)\n",
    "    return df\n",
    "\n",
    "def clean_come_df(df):\n",
    "    df[\"choice\"] = df[\"choice\"].apply(get_response_come)\n",
    "    orig_entries = df.shape[0]\n",
    "    df = df.dropna()\n",
    "    print(f\"Dropped {orig_entries - df.shape[0]} \\\"None\\\" entries\")\n",
    "    return df\n",
    "\n",
    "yelp_zero_df = clean_yelp_df(yelp_zero_df)\n",
    "yelp_few_df = clean_yelp_df(yelp_few_df)\n",
    "yelp_zero_2_df = clean_yelp_df(yelp_zero_2_df)\n",
    "yelp_few_2_df = clean_yelp_df(yelp_few_2_df)\n",
    "yelp_zero_3_df = clean_yelp_df(yelp_zero_3_df)\n",
    "yelp_few_3_df = clean_yelp_df(yelp_few_3_df)\n",
    "come_zero_df = clean_come_df(come_zero_df)\n",
    "come_zero_2_df = clean_come_df(come_zero_2_df)\n",
    "come_zero_3_df = clean_come_df(come_zero_3_df)\n",
    "\n"
   ]
  },
  {
   "cell_type": "code",
   "execution_count": 81,
   "metadata": {},
   "outputs": [],
   "source": [
    "yelp_zero_df.to_csv(\"/home/grads/hassledw/ICL_Research/UDR_yelp_results/UDR-yelp-zeroshot-llama-cleaned.csv\")\n",
    "yelp_few_df.to_csv(\"/home/grads/hassledw/ICL_Research/UDR_yelp_results/UDR-yelp-fewshot-llama-1-cleaned.csv\")\n",
    "\n",
    "yelp_zero_2_df.to_csv(\"/home/grads/hassledw/ICL_Research/UDR_yelp_results/UDR-yelp-zeroshot-llama-2-cleaned.csv\")\n",
    "yelp_few_2_df.to_csv(\"/home/grads/hassledw/ICL_Research/UDR_yelp_results/UDR-yelp-fewshot-llama-2-cleaned.csv\")\n",
    "\n",
    "yelp_zero_3_df.to_csv(\"/home/grads/hassledw/ICL_Research/UDR_yelp_results/UDR-yelp-zeroshot-llama-3-cleaned.csv\")\n",
    "yelp_few_3_df.to_csv(\"/home/grads/hassledw/ICL_Research/UDR_yelp_results/UDR-yelp-fewshot-llama-3-cleaned.csv\")\n",
    "\n",
    "# come_truth_df.to_csv(\"/home/grads/hassledw/ICL_Research/UDR_comE_results/UDR-comE-llama-cleaned.csv\")\n",
    "come_zero_df.to_csv(\"/home/grads/hassledw/ICL_Research/UDR_comE_results/UDR-comE-zeroshot-llama-1-cleaned.csv\")\n",
    "come_zero_2_df.to_csv(\"/home/grads/hassledw/ICL_Research/UDR_comE_results/UDR-comE-zeroshot-llama-2-cleaned.csv\")\n",
    "come_zero_3_df.to_csv(\"/home/grads/hassledw/ICL_Research/UDR_comE_results/UDR-comE-zeroshot-llama-3-cleaned.csv\")"
   ]
  },
  {
   "cell_type": "markdown",
   "metadata": {},
   "source": [
    "## Compare Ground Truth and *-Shot\n",
    "Here are the rrompts used for the baseline tasks.\n",
    "\n",
    "**Zero Shot**:\n",
    "```\n",
    "Please rate the sentiment of the following text # \"very negative\", \"negative\", \"neutral\", \"positive\", or \"very positive\"#:\n",
    "\"### \\\"{query}\\\"\"\n",
    "\"### Response:\"\"\"\n",
    "```\n",
    "\n",
    "**Few Shot Prompt 1**:\n",
    "\n",
    "```\n",
    "\"Here are some demonstration examples for the sentiment classification task:\n",
    "            1. \"\"It's been 5 years, I guess I should update my BOP review!\\n\\nNice range of english & irish beers on tap. They usually have some kind of shot special going on when I'm there. The drinks are a tad pricy...\"\" = \"\"neutral\"\"\n",
    "            2. \"\"Love the concept of this place. My mom and I have been going for a few years now and always have a blast. We start with fun cocktails at Salt. Then we go find our seats (its worth it to pay the extra ...\"\" = \"\"very positive\"\"\n",
    "            Please rate the sentiment of the following text # \"\"very negative\"\", \"\"negative\"\", \"\"neutral\"\", \"\"positive\"\", or \"\"very positive\"\"#.\n",
    "### \"\"Excellent sushi, great service, and good happy hour specials.  It has a decent sports bar theme.  I had my bachelor party here and even my friends who don't care for fish liked the place.  I also go here for business dinners.\\n\\nTry the Ladybug Roll just for the presentation.\"\"\"\"\n",
    "### Response: very positive\"\n",
    "```\n",
    "\n",
    "**Few Shot Prompt 2**:\n",
    "```\n",
    "\"### #Review#: \"\"We came inside waited for ten minutes to be acknowledge then we had to wait another five to ten minutes  to be seated for a booth as. As we are waiting I seen a booth and the hostess  told me \\\"\"that the server was full, so I said okay then once the manager came up she told the hostess to sit us at the same exact booth..... So as we were seated a SPIDER!!!!! crawls across the table.....I'm so done with these MOFOS!!!!!\"\"\n",
    "\n",
    "    #Here are some examples for the task:\n",
    "    1. \"\"Meh!! This is a typical AZ hyped up joint. I have eaten here twice. Both times have left much to desire. First off the bread was toooo freakin thick. The meats are not very high quality in flavor or t...\"\" = \"\"negative\"\"\n",
    "    2. \"\"I stopped in here on my way to Cali hoping for something gluten free before my flight. It was pretty busy and only a couple overly stressed servers. It has a long bar, naturally as its Vegas, and then...\"\" = \"\"negative\"\"\n",
    "\n",
    "    Please rate the sentiment of the Review: \"\"very negative\"\", \"\"negative\"\", \"\"neutral\"\", \"\"positive\"\", or \"\"very positive\"\"#.\n",
    "    ### Response:  Very Negative\"\n",
    "```   "
   ]
  },
  {
   "cell_type": "code",
   "execution_count": 82,
   "metadata": {},
   "outputs": [
    {
     "name": "stdout",
     "output_type": "stream",
     "text": [
      "##### RUNNING ON Yelp DATASET ######\n",
      "PROMPT 1\n",
      "Llama-7b Prediction Accuracy (Zero-shot): 43.55%\n",
      "Llama-7b Prediction Accuracy (Few-shot): 42.60%\n",
      "\n",
      "PROMPT 2\n",
      "Llama-7b Prediction Accuracy (Zero-shot): 41.00%\n",
      "Llama-7b Prediction Accuracy (Few-shot): 30.37%\n",
      "\n",
      "PROMPT 3\n",
      "Llama-7b Prediction Accuracy (Zero-shot): 47.69%\n",
      "Llama-7b Prediction Accuracy (Few-shot): 47.24%\n",
      "\n",
      "##### RUNNING ON comE DATASET ######\n",
      "PROMPT 1\n",
      "Llama-7b Prediction Accuracy (Zero-shot): 54.74%\n"
     ]
    }
   ],
   "source": [
    "def gather_yelp_accuracy(df):\n",
    "    df_results = pd.merge(yelp_truth_df, df, on=['sentence'], how='inner')\n",
    "    accurate_results = df_results[df_results[\"label_x\"] == df_results[\"label_y\"]]\n",
    "    return len(accurate_results) / len(df_results) * 100\n",
    "\n",
    "def gather_come_accuracy(df):\n",
    "    df_results = pd.merge(come_truth_df, df, on=['statement'], how='inner')\n",
    "    accurate_results = df_results[df_results[\"choice_x\"] == df_results[\"choice_y\"]]\n",
    "    return len(accurate_results) / len(df_results) * 100 \n",
    "\n",
    "print(\"##### RUNNING ON Yelp DATASET ######\")\n",
    "print(\"PROMPT 1\")\n",
    "print(f\"Llama-7b Prediction Accuracy (Zero-shot): {gather_yelp_accuracy(yelp_zero_df):.2f}%\")\n",
    "print(f\"Llama-7b Prediction Accuracy (Few-shot): {gather_yelp_accuracy(yelp_few_df):.2f}%\")\n",
    "print()\n",
    "print(\"PROMPT 2\")\n",
    "print(f\"Llama-7b Prediction Accuracy (Zero-shot): {gather_yelp_accuracy(yelp_zero_2_df):.2f}%\")\n",
    "print(f\"Llama-7b Prediction Accuracy (Few-shot): {gather_yelp_accuracy(yelp_few_2_df):.2f}%\")\n",
    "print()\n",
    "print(\"PROMPT 3\")\n",
    "print(f\"Llama-7b Prediction Accuracy (Zero-shot): {gather_yelp_accuracy(yelp_zero_3_df):.2f}%\")\n",
    "print(f\"Llama-7b Prediction Accuracy (Few-shot): {gather_yelp_accuracy(yelp_few_3_df):.2f}%\")\n",
    "\n",
    "print(\"\\n##### RUNNING ON comE DATASET ######\")\n",
    "print(\"PROMPT 1\")\n",
    "print(f\"Llama-7b Prediction Accuracy (Zero-shot): {gather_come_accuracy(come_zero_df):.2f}%\")\n",
    "print()\n",
    "print(\"PROMPT 2\")\n",
    "print(f\"Llama-7b Prediction Accuracy (Zero-shot): {gather_come_accuracy(come_zero_2_df):.2f}%\")\n",
    "print()\n",
    "print(\"PROMPT 3\")\n",
    "print(f\"Llama-7b Prediction Accuracy (Zero-shot): {gather_come_accuracy(come_zero_3_df):.2f}%\")"
   ]
  }
 ],
 "metadata": {
  "kernelspec": {
   "display_name": "base",
   "language": "python",
   "name": "python3"
  },
  "language_info": {
   "codemirror_mode": {
    "name": "ipython",
    "version": 3
   },
   "file_extension": ".py",
   "mimetype": "text/x-python",
   "name": "python",
   "nbconvert_exporter": "python",
   "pygments_lexer": "ipython3",
   "version": "3.11.6"
  }
 },
 "nbformat": 4,
 "nbformat_minor": 2
}
