{
 "cells": [
  {
   "cell_type": "markdown",
   "metadata": {},
   "source": [
    "# Llama Model Analytics on Yelp Dataset"
   ]
  },
  {
   "cell_type": "code",
   "execution_count": 1,
   "metadata": {},
   "outputs": [
    {
     "name": "stderr",
     "output_type": "stream",
     "text": [
      "/home/grads/hassledw/miniconda3/lib/python3.11/site-packages/tqdm/auto.py:21: TqdmWarning: IProgress not found. Please update jupyter and ipywidgets. See https://ipywidgets.readthedocs.io/en/stable/user_install.html\n",
      "  from .autonotebook import tqdm as notebook_tqdm\n"
     ]
    }
   ],
   "source": [
    "import pandas as pd\n",
    "import matplotlib.pyplot as plt\n",
    "import seaborn as sns\n",
    "import numpy as np\n",
    "from datasets import load_dataset\n"
   ]
  },
  {
   "cell_type": "markdown",
   "metadata": {},
   "source": [
    "## Create the Ground Truth CSV file"
   ]
  },
  {
   "cell_type": "code",
   "execution_count": 2,
   "metadata": {},
   "outputs": [],
   "source": [
    "# dataset = load_dataset(\"KaiLv/UDR_Yelp\")\n",
    "# data = dataset[\"test\"]\n",
    "\n",
    "# data = pd.DataFrame(data).drop(columns=[\"idx\"])\n",
    "# data.to_csv(\"/home/grads/hassledw/ICL_Research/UDR-yelp-llama.csv\")"
   ]
  },
  {
   "cell_type": "markdown",
   "metadata": {},
   "source": [
    "### Load Yelp Data"
   ]
  },
  {
   "cell_type": "code",
   "execution_count": 3,
   "metadata": {},
   "outputs": [],
   "source": [
    "yelp_truth_df = pd.read_csv(\"/home/grads/hassledw/ICL_Research/UDR_yelp_results/UDR-yelp-llama.csv\")\n",
    "yelp_zero_df = pd.read_csv(\"/home/grads/hassledw/ICL_Research/UDR_yelp_results/UDR-yelp-zeroshot-llama-1.csv\")\n",
    "yelp_few_df = pd.read_csv(\"/home/grads/hassledw/ICL_Research/UDR_yelp_results/UDR-yelp-fewshot-llama-1.csv\")\n",
    "yelp_zero_2_df = pd.read_csv(\"/home/grads/hassledw/ICL_Research/UDR_yelp_results/UDR-yelp-zeroshot-llama-2.csv\")\n",
    "yelp_few_2_df = pd.read_csv(\"/home/grads/hassledw/ICL_Research/UDR_yelp_results/UDR-yelp-fewshot-llama-2.csv\")\n",
    "yelp_zero_3_df = pd.read_csv(\"/home/grads/hassledw/ICL_Research/UDR_yelp_results/UDR-yelp-zeroshot-llama-3.csv\")\n",
    "yelp_few_3_df = pd.read_csv(\"/home/grads/hassledw/ICL_Research/UDR_yelp_results/UDR-yelp-fewshot-llama-3.csv\")"
   ]
  },
  {
   "cell_type": "markdown",
   "metadata": {},
   "source": [
    "### Load ComE Data"
   ]
  },
  {
   "cell_type": "code",
   "execution_count": 4,
   "metadata": {},
   "outputs": [],
   "source": [
    "# come_truth_df = pd.read_csv()"
   ]
  },
  {
   "cell_type": "markdown",
   "metadata": {},
   "source": [
    "## Clean the Label Data in Zero-Shot and Run Metric"
   ]
  },
  {
   "cell_type": "code",
   "execution_count": 5,
   "metadata": {},
   "outputs": [
    {
     "name": "stdout",
     "output_type": "stream",
     "text": [
      "Dropped 15 \"None\" entries\n",
      "Dropped 42 \"None\" entries\n",
      "Dropped 95 \"None\" entries\n",
      "Dropped 96 \"None\" entries\n",
      "Dropped 293 \"None\" entries\n",
      "Dropped 786 \"None\" entries\n"
     ]
    },
    {
     "name": "stderr",
     "output_type": "stream",
     "text": [
      "/tmp/ipykernel_2905794/3346978777.py:24: SettingWithCopyWarning: \n",
      "A value is trying to be set on a copy of a slice from a DataFrame.\n",
      "Try using .loc[row_indexer,col_indexer] = value instead\n",
      "\n",
      "See the caveats in the documentation: https://pandas.pydata.org/pandas-docs/stable/user_guide/indexing.html#returning-a-view-versus-a-copy\n",
      "  df[\"label\"] = df[\"label\"].astype(int)\n",
      "/tmp/ipykernel_2905794/3346978777.py:24: SettingWithCopyWarning: \n",
      "A value is trying to be set on a copy of a slice from a DataFrame.\n",
      "Try using .loc[row_indexer,col_indexer] = value instead\n",
      "\n",
      "See the caveats in the documentation: https://pandas.pydata.org/pandas-docs/stable/user_guide/indexing.html#returning-a-view-versus-a-copy\n",
      "  df[\"label\"] = df[\"label\"].astype(int)\n",
      "/tmp/ipykernel_2905794/3346978777.py:24: SettingWithCopyWarning: \n",
      "A value is trying to be set on a copy of a slice from a DataFrame.\n",
      "Try using .loc[row_indexer,col_indexer] = value instead\n",
      "\n",
      "See the caveats in the documentation: https://pandas.pydata.org/pandas-docs/stable/user_guide/indexing.html#returning-a-view-versus-a-copy\n",
      "  df[\"label\"] = df[\"label\"].astype(int)\n",
      "/tmp/ipykernel_2905794/3346978777.py:24: SettingWithCopyWarning: \n",
      "A value is trying to be set on a copy of a slice from a DataFrame.\n",
      "Try using .loc[row_indexer,col_indexer] = value instead\n",
      "\n",
      "See the caveats in the documentation: https://pandas.pydata.org/pandas-docs/stable/user_guide/indexing.html#returning-a-view-versus-a-copy\n",
      "  df[\"label\"] = df[\"label\"].astype(int)\n",
      "/tmp/ipykernel_2905794/3346978777.py:24: SettingWithCopyWarning: \n",
      "A value is trying to be set on a copy of a slice from a DataFrame.\n",
      "Try using .loc[row_indexer,col_indexer] = value instead\n",
      "\n",
      "See the caveats in the documentation: https://pandas.pydata.org/pandas-docs/stable/user_guide/indexing.html#returning-a-view-versus-a-copy\n",
      "  df[\"label\"] = df[\"label\"].astype(int)\n",
      "/tmp/ipykernel_2905794/3346978777.py:24: SettingWithCopyWarning: \n",
      "A value is trying to be set on a copy of a slice from a DataFrame.\n",
      "Try using .loc[row_indexer,col_indexer] = value instead\n",
      "\n",
      "See the caveats in the documentation: https://pandas.pydata.org/pandas-docs/stable/user_guide/indexing.html#returning-a-view-versus-a-copy\n",
      "  df[\"label\"] = df[\"label\"].astype(int)\n"
     ]
    }
   ],
   "source": [
    "def get_response(text):\n",
    "    '''\n",
    "    Cleans the text of the label to just get the response\n",
    "    '''\n",
    "    valid = [\"very negative\", \"very positive\", \"negative\", \"positive\", \"neutral\"]\n",
    "    valid_dict = {\"very negative\": 0, \"negative\": 1, \"neutral\": 2, \"positive\": 3, \"very positive\": 4}\n",
    "    sentences = text.split(\"Response:\")\n",
    "    query = sentences[-1].strip(\"##\").strip(\" \").lower()\n",
    "    \n",
    "    if len(sentences[-1].split(\" \")) > 3 or query not in valid:\n",
    "        for v in valid:\n",
    "            if v in query:\n",
    "                return valid_dict[v]\n",
    "        return None\n",
    "    else:\n",
    "        return valid_dict[query]\n",
    "    \n",
    "\n",
    "def clean_yelp_df(df):\n",
    "    df[\"label\"] = df[\"label\"].apply(get_response)\n",
    "    orig_entries = df.shape[0]\n",
    "    df = df.dropna()\n",
    "    print(f\"Dropped {orig_entries - df.shape[0]} \\\"None\\\" entries\")\n",
    "    df[\"label\"] = df[\"label\"].astype(int)\n",
    "    return df\n",
    "\n",
    "yelp_zero_df = clean_yelp_df(yelp_zero_df)\n",
    "yelp_few_df = clean_yelp_df(yelp_few_df)\n",
    "yelp_zero_2_df = clean_yelp_df(yelp_zero_2_df)\n",
    "yelp_few_2_df = clean_yelp_df(yelp_few_2_df)\n",
    "yelp_zero_3_df = clean_yelp_df(yelp_zero_3_df)\n",
    "yelp_few_3_df = clean_yelp_df(yelp_few_3_df)\n",
    "\n"
   ]
  },
  {
   "cell_type": "code",
   "execution_count": 6,
   "metadata": {},
   "outputs": [],
   "source": [
    "yelp_zero_df.to_csv(\"/home/grads/hassledw/ICL_Research/UDR_yelp_results/UDR-yelp-zeroshot-llama-cleaned.csv\")\n",
    "yelp_few_df.to_csv(\"/home/grads/hassledw/ICL_Research/UDR_yelp_results/UDR-yelp-fewshot-llama-1-cleaned.csv\")\n",
    "\n",
    "yelp_zero_2_df.to_csv(\"/home/grads/hassledw/ICL_Research/UDR_yelp_results/UDR-yelp-zeroshot-llama-2-cleaned.csv\")\n",
    "yelp_few_2_df.to_csv(\"/home/grads/hassledw/ICL_Research/UDR_yelp_results/UDR-yelp-fewshot-llama-2-cleaned.csv\")\n",
    "\n",
    "yelp_zero_3_df.to_csv(\"/home/grads/hassledw/ICL_Research/UDR_yelp_results/UDR-yelp-zeroshot-llama-3-cleaned.csv\")\n",
    "yelp_few_3_df.to_csv(\"/home/grads/hassledw/ICL_Research/UDR_yelp_results/UDR-yelp-fewshot-llama-3-cleaned.csv\")\n"
   ]
  },
  {
   "cell_type": "markdown",
   "metadata": {},
   "source": [
    "## Compare Ground Truth and *-Shot\n",
    "Here are the rrompts used for the baseline tasks.\n",
    "\n",
    "**Zero Shot**:\n",
    "```\n",
    "Please rate the sentiment of the following text # \"very negative\", \"negative\", \"neutral\", \"positive\", or \"very positive\"#:\n",
    "\"### \\\"{query}\\\"\"\n",
    "\"### Response:\"\"\"\n",
    "```\n",
    "\n",
    "**Few Shot Prompt 1**:\n",
    "\n",
    "```\n",
    "\"Here are some demonstration examples for the sentiment classification task:\n",
    "            1. \"\"It's been 5 years, I guess I should update my BOP review!\\n\\nNice range of english & irish beers on tap. They usually have some kind of shot special going on when I'm there. The drinks are a tad pricy...\"\" = \"\"neutral\"\"\n",
    "            2. \"\"Love the concept of this place. My mom and I have been going for a few years now and always have a blast. We start with fun cocktails at Salt. Then we go find our seats (its worth it to pay the extra ...\"\" = \"\"very positive\"\"\n",
    "            Please rate the sentiment of the following text # \"\"very negative\"\", \"\"negative\"\", \"\"neutral\"\", \"\"positive\"\", or \"\"very positive\"\"#.\n",
    "### \"\"Excellent sushi, great service, and good happy hour specials.  It has a decent sports bar theme.  I had my bachelor party here and even my friends who don't care for fish liked the place.  I also go here for business dinners.\\n\\nTry the Ladybug Roll just for the presentation.\"\"\"\"\n",
    "### Response: very positive\"\n",
    "```\n",
    "\n",
    "**Few Shot Prompt 2**:\n",
    "```\n",
    "\"### #Review#: \"\"We came inside waited for ten minutes to be acknowledge then we had to wait another five to ten minutes  to be seated for a booth as. As we are waiting I seen a booth and the hostess  told me \\\"\"that the server was full, so I said okay then once the manager came up she told the hostess to sit us at the same exact booth..... So as we were seated a SPIDER!!!!! crawls across the table.....I'm so done with these MOFOS!!!!!\"\"\n",
    "\n",
    "    #Here are some examples for the task:\n",
    "    1. \"\"Meh!! This is a typical AZ hyped up joint. I have eaten here twice. Both times have left much to desire. First off the bread was toooo freakin thick. The meats are not very high quality in flavor or t...\"\" = \"\"negative\"\"\n",
    "    2. \"\"I stopped in here on my way to Cali hoping for something gluten free before my flight. It was pretty busy and only a couple overly stressed servers. It has a long bar, naturally as its Vegas, and then...\"\" = \"\"negative\"\"\n",
    "\n",
    "    Please rate the sentiment of the Review: \"\"very negative\"\", \"\"negative\"\", \"\"neutral\"\", \"\"positive\"\", or \"\"very positive\"\"#.\n",
    "    ### Response:  Very Negative\"\n",
    "```   "
   ]
  },
  {
   "cell_type": "code",
   "execution_count": 7,
   "metadata": {},
   "outputs": [
    {
     "name": "stdout",
     "output_type": "stream",
     "text": [
      "PROMPT 1\n",
      "Llama-7b Prediction Accuracy (Zero-shot): 43.55%\n",
      "Llama-7b Prediction Accuracy (Few-shot): 42.60%\n",
      "\n",
      "PROMPT 2\n",
      "Llama-7b Prediction Accuracy (Zero-shot): 41.00%\n",
      "Llama-7b Prediction Accuracy (Few-shot): 30.37%\n",
      "\n",
      "PROMPT 3\n",
      "Llama-7b Prediction Accuracy (Zero-shot): 47.69%\n",
      "Llama-7b Prediction Accuracy (Few-shot): 47.24%\n"
     ]
    }
   ],
   "source": [
    "def gather_accuracy(df):\n",
    "    df_results = pd.merge(yelp_truth_df, df, on=['sentence'], how='inner')\n",
    "    accurate_results = df_results[df_results[\"label_x\"] == df_results[\"label_y\"]]\n",
    "    return len(accurate_results) / len(df_results) * 100\n",
    "\n",
    "print(\"PROMPT 1\")\n",
    "print(f\"Llama-7b Prediction Accuracy (Zero-shot): {gather_accuracy(yelp_zero_df):.2f}%\")\n",
    "print(f\"Llama-7b Prediction Accuracy (Few-shot): {gather_accuracy(yelp_few_df):.2f}%\")\n",
    "print()\n",
    "print(\"PROMPT 2\")\n",
    "print(f\"Llama-7b Prediction Accuracy (Zero-shot): {gather_accuracy(yelp_zero_2_df):.2f}%\")\n",
    "print(f\"Llama-7b Prediction Accuracy (Few-shot): {gather_accuracy(yelp_few_2_df):.2f}%\")\n",
    "print()\n",
    "print(\"PROMPT 3\")\n",
    "print(f\"Llama-7b Prediction Accuracy (Zero-shot): {gather_accuracy(yelp_zero_3_df):.2f}%\")\n",
    "print(f\"Llama-7b Prediction Accuracy (Few-shot): {gather_accuracy(yelp_few_3_df):.2f}%\")"
   ]
  }
 ],
 "metadata": {
  "kernelspec": {
   "display_name": "base",
   "language": "python",
   "name": "python3"
  },
  "language_info": {
   "codemirror_mode": {
    "name": "ipython",
    "version": 3
   },
   "file_extension": ".py",
   "mimetype": "text/x-python",
   "name": "python",
   "nbconvert_exporter": "python",
   "pygments_lexer": "ipython3",
   "version": "3.11.6"
  }
 },
 "nbformat": 4,
 "nbformat_minor": 2
}
